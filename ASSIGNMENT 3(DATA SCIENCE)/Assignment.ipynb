{
 "cells": [
  {
   "cell_type": "markdown",
   "metadata": {},
   "source": [
    "1. Scenario: A company wants to analyze the sales performance of its products in different regions. They have collected the following data:\n",
    "   \n",
    "   Region A: [10, 15, 12, 8, 14]\n",
    "   \n",
    "   Region B: [18, 20, 16, 22, 25]\n",
    "   \n",
    "   Calculate the mean sales for each region.\n"
   ]
  },
  {
   "cell_type": "code",
   "execution_count": 1,
   "metadata": {},
   "outputs": [
    {
     "name": "stdout",
     "output_type": "stream",
     "text": [
      "Mean A :  11.8\n",
      "Mean B :  20.2\n"
     ]
    }
   ],
   "source": [
    "import statistics\n",
    "\n",
    "regionA = [10, 15, 12, 8, 14]\n",
    "regionB = [18, 20, 16, 22, 25]\n",
    "\n",
    "meanA = statistics.mean(regionA)\n",
    "meanB = statistics.mean(regionB)\n",
    "\n",
    "print(\"Mean A : \",meanA)\n",
    "print(\"Mean B : \",meanB)"
   ]
  },
  {
   "cell_type": "markdown",
   "metadata": {},
   "source": [
    "2. Scenario: A survey is conducted to measure customer satisfaction on a scale of 1 to 5. The data collected is as follows:\n",
    "   \n",
    "   [4, 5, 2, 3, 5, 4, 3, 2, 4, 5]\n",
    "   \n",
    "   Calculate the mode of the survey responses.\n"
   ]
  },
  {
   "cell_type": "code",
   "execution_count": 2,
   "metadata": {},
   "outputs": [
    {
     "name": "stdout",
     "output_type": "stream",
     "text": [
      "Mode :  4\n"
     ]
    }
   ],
   "source": [
    "import statistics\n",
    "\n",
    "lst = [4, 5, 2, 3, 5, 4, 3, 2, 4, 5]\n",
    "\n",
    "mode = statistics.mode(lst)\n",
    "\n",
    "print(\"Mode : \",mode)"
   ]
  },
  {
   "cell_type": "markdown",
   "metadata": {},
   "source": [
    "3. Scenario: A company wants to compare the salaries of two departments. The salary data for Department A and Department B are as follows:\n",
    "   \n",
    "   Department A: [5000, 6000, 5500, 7000]\n",
    "   \n",
    "   Department B: [4500, 5500, 5800, 6000, 5200]\n",
    "   \n",
    "   Calculate the median salary for each department.\n"
   ]
  },
  {
   "cell_type": "code",
   "execution_count": 3,
   "metadata": {},
   "outputs": [
    {
     "name": "stdout",
     "output_type": "stream",
     "text": [
      "Meadian A :  5750.0\n",
      "Meadian B :  5500\n"
     ]
    }
   ],
   "source": [
    "DepartmentA = [5000, 6000, 5500, 7000]\n",
    "DepartmentB =[4500, 5500, 5800, 6000, 5200]\n",
    "\n",
    "medianA = statistics.median(DepartmentA)\n",
    "medianB = statistics.median(DepartmentB)\n",
    "\n",
    "print(\"Meadian A : \", medianA)\n",
    "print(\"Meadian B : \", medianB)"
   ]
  },
  {
   "cell_type": "markdown",
   "metadata": {},
   "source": [
    "4. Scenario: A data analyst wants to determine the variability in the daily stock prices of a company. The data collected is as follows:\n",
    "   \n",
    "   [25.5, 24.8, 26.1, 25.3, 24.9]\n",
    "   \n",
    "   Calculate the range of the stock prices.\n"
   ]
  },
  {
   "cell_type": "code",
   "execution_count": 4,
   "metadata": {},
   "outputs": [
    {
     "name": "stdout",
     "output_type": "stream",
     "text": [
      "Range of stock prices :  24.8 -> 26.1\n"
     ]
    }
   ],
   "source": [
    "stocks = [25.5, 24.8, 26.1, 25.3, 24.9]\n",
    "\n",
    "print(\"Range of stock prices : \", min(stocks),\"->\",max(stocks))"
   ]
  },
  {
   "cell_type": "markdown",
   "metadata": {},
   "source": [
    "5. Scenario: A study is conducted to compare the performance of two different teaching methods. The test scores of the students in each group are as follows:\n",
    "   \n",
    "   Group A: [85, 90, 92, 88, 91]\n",
    "   \n",
    "   Group B: [82, 88, 90, 86, 87]\n",
    "   \n",
    "   Perform a t-test to determine if there is a significant difference in the mean scores between the two groups.\n"
   ]
  },
  {
   "cell_type": "code",
   "execution_count": 5,
   "metadata": {},
   "outputs": [
    {
     "name": "stdout",
     "output_type": "stream",
     "text": [
      "T-Statistic: 1.4312528946642733\n",
      "P-Value: 0.19023970239078333\n"
     ]
    }
   ],
   "source": [
    "from scipy import stats\n",
    "\n",
    "GroupA =  [85, 90, 92, 88, 91]\n",
    "GroupB =  [82, 88, 90, 86, 87]\n",
    "   \n",
    "# Perform independent t-test\n",
    "t_statistic, p_value = stats.ttest_ind(GroupA, GroupB)\n",
    "\n",
    "# Print the results\n",
    "print(\"T-Statistic:\", t_statistic)\n",
    "print(\"P-Value:\", p_value)"
   ]
  },
  {
   "cell_type": "markdown",
   "metadata": {},
   "source": [
    "6. Scenario: A company wants to analyze the relationship between advertising expenditure and sales. The data collected is as follows:\n",
    "   \n",
    "   Advertising Expenditure (in thousands): [10, 15, 12, 8, 14]\n",
    "   \n",
    "   Sales (in thousands): [25, 30, 28, 20, 26]\n",
    "   \n",
    "   Calculate the correlation coefficient between advertising expenditure and sales.\n"
   ]
  },
  {
   "cell_type": "code",
   "execution_count": 6,
   "metadata": {},
   "outputs": [
    {
     "name": "stdout",
     "output_type": "stream",
     "text": [
      "Correlation Coefficient 0.8757511375750132\n"
     ]
    }
   ],
   "source": [
    "import numpy as np\n",
    "\n",
    "advertisingExp = [10, 15, 12, 8, 14]\n",
    "sales = [25, 30, 28, 20, 26]\n",
    "\n",
    "# Calculate the correlation coefficient\n",
    "correlation_coefficient = np.corrcoef(advertisingExp, sales)[0,1]\n",
    "\n",
    "print(\"Correlation Coefficient\",correlation_coefficient)"
   ]
  },
  {
   "cell_type": "markdown",
   "metadata": {},
   "source": [
    "7. Scenario: A survey is conducted to measure the heights of a group of people. The data collected is as follows:\n",
    "   \n",
    "   [160, 170, 165, 155, 175, 180, 170]\n",
    "   \n",
    "   Calculate the standard deviation of the heights.\n"
   ]
  },
  {
   "cell_type": "code",
   "execution_count": 7,
   "metadata": {},
   "outputs": [
    {
     "name": "stdout",
     "output_type": "stream",
     "text": [
      "Standard Deviation :  7.953949089757174\n"
     ]
    }
   ],
   "source": [
    "height = [160, 170, 165, 155, 175, 180, 170]\n",
    "\n",
    "print(\"Standard Deviation : \",np.std(height))"
   ]
  },
  {
   "cell_type": "markdown",
   "metadata": {},
   "source": [
    "8. Scenario: A company wants to analyze the relationship between employee tenure and job satisfaction. The data collected is as follows:\n",
    "   \n",
    "   Employee Tenure (in years): [2, 3, 5, 4, 6, 2, 4]\n",
    "   \n",
    "   Job Satisfaction (on a scale of 1 to 10): [7, 8, 6, 9, 5, 7, 6]\n",
    "   \n",
    "   Perform a linear regression analysis to predict job satisfaction based on employee tenure.\n"
   ]
  },
  {
   "cell_type": "code",
   "execution_count": 8,
   "metadata": {},
   "outputs": [
    {
     "name": "stdout",
     "output_type": "stream",
     "text": [
      "Slope: -0.4680851063829787\n",
      "Intercept: 8.595744680851062\n",
      "R-value (correlation coefficient): -0.520573376708331\n",
      "P-value: 0.23095550952297988\n",
      "Standard error: 0.34333860006713723\n"
     ]
    }
   ],
   "source": [
    "EmployeeTenure = [2, 3, 5, 4, 6, 2, 4]\n",
    "JobSatisfaction = [7, 8, 6, 9, 5, 7, 6]\n",
    "\n",
    "slope, intercept, r_value, p_value, std_err = stats.linregress(EmployeeTenure, JobSatisfaction)\n",
    "\n",
    "# Print the results\n",
    "print(\"Slope:\", slope)\n",
    "print(\"Intercept:\", intercept)\n",
    "print(\"R-value (correlation coefficient):\", r_value)\n",
    "print(\"P-value:\", p_value)\n",
    "print(\"Standard error:\", std_err)"
   ]
  },
  {
   "cell_type": "markdown",
   "metadata": {},
   "source": [
    "9. Scenario: A study is conducted to compare the effectiveness of two different medications. The recovery times of the patients in each group are as follows:\n",
    "   \n",
    "   Medication A: [10, 12, 14, 11, 13]\n",
    "   \n",
    "   Medication B: [15, 17, 16, 14, 18]\n",
    "   \n",
    "   Perform an analysis of variance (ANOVA) to determine if there is a significant difference in the mean recovery times between the two medications.\n"
   ]
  },
  {
   "cell_type": "code",
   "execution_count": 9,
   "metadata": {},
   "outputs": [
    {
     "name": "stdout",
     "output_type": "stream",
     "text": [
      "F-value: 16.0\n",
      "P-value: 0.003949772803445326\n"
     ]
    }
   ],
   "source": [
    "MedicationA = [10, 12, 14, 11, 13]\n",
    "MedicationB = [15, 17, 16, 14, 18]\n",
    "\n",
    "f_value, p_value = stats.f_oneway(MedicationA, MedicationB)\n",
    "\n",
    "# Print the results\n",
    "print(\"F-value:\", f_value)\n",
    "print(\"P-value:\", p_value)"
   ]
  },
  {
   "cell_type": "markdown",
   "metadata": {},
   "source": [
    "10. Scenario: A company wants to analyze customer feedback ratings on a scale of 1 to 10. The data collected is as follows:\n",
    "    \n",
    "    [8, 9, 7, 6, 8, 10, 9, 8, 7, 8]\n",
    "    \n",
    "    Calculate the 75th percentile of the feedback ratings.\n"
   ]
  },
  {
   "cell_type": "code",
   "execution_count": 10,
   "metadata": {},
   "outputs": [
    {
     "name": "stdout",
     "output_type": "stream",
     "text": [
      "75 Percentile :  8.75\n"
     ]
    }
   ],
   "source": [
    "feedbackRating = [8, 9, 7, 6, 8, 10, 9, 8, 7, 8]\n",
    "\n",
    "percentile75 = np.percentile(feedbackRating, 75)\n",
    "\n",
    "print(\"75 Percentile : \",percentile75)"
   ]
  },
  {
   "cell_type": "markdown",
   "metadata": {},
   "source": [
    "\n",
    "11. Scenario: A quality control department wants to test the weight consistency of a product. The weights of a sample of products are as follows:\n",
    "    \n",
    "    [10.2, 9.8, 10.0, 10.5, 10.3, 10.1]\n",
    "    \n",
    "    Perform a hypothesis test to determine if the mean weight differs significantly from 10 grams.\n"
   ]
  },
  {
   "cell_type": "code",
   "execution_count": 13,
   "metadata": {},
   "outputs": [
    {
     "name": "stdout",
     "output_type": "stream",
     "text": [
      "Fail to reject the null hypothesis. The mean weight does not differ significantly from 10 grams.\n",
      "T STATISTIC :  1.5126584522688367\n",
      "P VALUE :  0.19077595151110102\n"
     ]
    }
   ],
   "source": [
    "weights = [10.2, 9.8, 10.0, 10.5, 10.3, 10.1]\n",
    "null_hypothesis = 10\n",
    "\n",
    "t_statistic, p_value = stats.ttest_1samp(weights, null_hypothesis)\n",
    "\n",
    "alpha = 0.05\n",
    "\n",
    "if p_value < alpha:\n",
    "    print(\"Reject the null hypothesis. The mean weight differs significantly from 10 grams.\")\n",
    "else:\n",
    "    print(\"Fail to reject the null hypothesis. The mean weight does not differ significantly from 10 grams.\")\n",
    "\n",
    "print(\"T STATISTIC : \",t_statistic)\n",
    "print(\"P VALUE : \",p_value)\n"
   ]
  },
  {
   "cell_type": "markdown",
   "metadata": {},
   "source": [
    "12. Scenario: A company wants to analyze the click-through rates of two different website designs. The number of clicks for each design is as follows:\n",
    "    \n",
    "    Design A: [100, 120, 110, 90, 95]\n",
    "    \n",
    "    Design B: [80, 85, 90, 95, 100]\n",
    "    \n",
    "    Perform a chi-square test to determine if there is a significant difference in the click-through rates between the two designs."
   ]
  },
  {
   "cell_type": "code",
   "execution_count": 14,
   "metadata": {},
   "outputs": [
    {
     "name": "stdout",
     "output_type": "stream",
     "text": [
      "Fail to reject the null hypothesis. There is no significant difference in the click-through rates between the two designs.\n",
      "Chi-square statistic: 6.110658166925435\n",
      "p-value: 0.19103526314060296\n"
     ]
    }
   ],
   "source": [
    "DesignA = [100, 120, 110, 90, 95]\n",
    "DesignB = [80, 85, 90, 95, 100]\n",
    "\n",
    "# contigency table\n",
    "observed_freq_table = np.array([DesignA, DesignB])\n",
    "\n",
    "# Perform chi-square test\n",
    "chi2_statistic, p_value, _, _ = stats.chi2_contingency(observed_freq_table)\n",
    "\n",
    "alpha = 0.05\n",
    "\n",
    "if p_value < alpha:\n",
    "    print(\"Reject the null hypothesis. There is a significant difference in the click-through rates between the two designs.\")\n",
    "else:\n",
    "    print(\"Fail to reject the null hypothesis. There is no significant difference in the click-through rates between the two designs.\")\n",
    "\n",
    "print(\"Chi-square statistic:\", chi2_statistic)\n",
    "print(\"p-value:\", p_value)\n",
    "    "
   ]
  },
  {
   "cell_type": "markdown",
   "metadata": {},
   "source": [
    "13. Scenario: A survey is conducted to measure customer satisfaction with a product on a scale of 1 to 10. The data collected is as follows:\n",
    "    \n",
    "    [7, 9, 6, 8, 10, 7, 8, 9, 7, 8]\n",
    "    \n",
    "    Calculate the 95% confidence interval for the population mean satisfaction score."
   ]
  },
  {
   "cell_type": "code",
   "execution_count": 15,
   "metadata": {},
   "outputs": [
    {
     "name": "stdout",
     "output_type": "stream",
     "text": [
      "Sample mean: 7.90\n",
      "Standard error: 0.38\n",
      "Critical value: 2.26\n",
      "Margin of error: 0.86\n",
      "Confidence interval: (7.043561120599888, 8.756438879400113)\n"
     ]
    }
   ],
   "source": [
    "data = [7, 9, 6, 8, 10, 7, 8, 9, 7, 8]\n",
    "\n",
    "sample_mean = np.mean(data)\n",
    "sample_std = np.std(data, ddof=1)\n",
    "\n",
    "standard_error = sample_std / np.sqrt(len(data))\n",
    "\n",
    "# Define the confidence level and alpha (1 - confidence level)\n",
    "confidence_level = 0.95\n",
    "alpha = 1 - confidence_level\n",
    "\n",
    "# Calculate the critical value (z-score) for the given alpha and two-tailed test\n",
    "critical_value = stats.t.ppf(1 - alpha / 2, df=len(data) - 1)\n",
    "\n",
    "# Calculate the margin of error\n",
    "margin_of_error = critical_value * standard_error\n",
    "\n",
    "# Calculate the confidence interval\n",
    "confidence_interval = (sample_mean - margin_of_error, sample_mean + margin_of_error)\n",
    "\n",
    "# Print the results\n",
    "print(f\"Sample mean: {sample_mean:.2f}\")\n",
    "print(f\"Standard error: {standard_error:.2f}\")\n",
    "print(f\"Critical value: {critical_value:.2f}\")\n",
    "print(f\"Margin of error: {margin_of_error:.2f}\")\n",
    "print(f\"Confidence interval: {confidence_interval}\")"
   ]
  },
  {
   "cell_type": "markdown",
   "metadata": {},
   "source": [
    "\n",
    "14. Scenario: A company wants to analyze the effect of temperature on product performance. The data collected is as follows:\n",
    "    \n",
    "    Temperature (in degrees Celsius): [20, 22, 23, 19, 21]\n",
    "    \n",
    "    Performance (on a scale of 1 to 10): [8, 7, 9, 6, 8]\n",
    "    \n",
    "    Perform a simple linear regression to predict performance based on temperature.\n"
   ]
  },
  {
   "cell_type": "code",
   "execution_count": 16,
   "metadata": {},
   "outputs": [
    {
     "name": "stdout",
     "output_type": "stream",
     "text": [
      "Regression equation:\n",
      "Performance = 0.50 * Temperature + -2.90\n",
      "\n",
      "R-squared: 0.4807692307692307\n",
      "p-value: 0.19417134561205843\n",
      "Standard error: 0.30000000000000004\n"
     ]
    }
   ],
   "source": [
    "temperature = [20, 22, 23, 19, 21]\n",
    "performance = [8, 7, 9, 6, 8]\n",
    "\n",
    "# linear regression\n",
    "slope, intercept, r_value, p_value, std_err = stats.linregress(temperature, performance)\n",
    "\n",
    "print(\"Regression equation:\")\n",
    "print(f\"Performance = {slope:.2f} * Temperature + {intercept:.2f}\")\n",
    "print()\n",
    "print(\"R-squared:\", r_value**2)\n",
    "print(\"p-value:\", p_value)\n",
    "print(\"Standard error:\", std_err)"
   ]
  },
  {
   "cell_type": "markdown",
   "metadata": {},
   "source": [
    "15. Scenario: A study is conducted to compare the preferences of two groups of participants. The preferences are measured on a Likert scale from 1 to 5. The data collected is as follows:\n",
    "    \n",
    "    Group A: [4, 3, 5, 2, 4]\n",
    "    \n",
    "    Group B: [3, 2, 4, 3, 3]\n",
    "    \n",
    "    Perform a Mann-Whitney U test to determine if there is a significant difference in the median preferences between the two groups.\n"
   ]
  },
  {
   "cell_type": "code",
   "execution_count": 17,
   "metadata": {},
   "outputs": [
    {
     "name": "stdout",
     "output_type": "stream",
     "text": [
      "Fail to reject the null hypothesis. There is no significant difference in median preferences between the two groups.\n",
      "Mann-Whitney U statistic: 17.0\n",
      "p-value: 0.380836480306712\n"
     ]
    }
   ],
   "source": [
    "GroupA = [4, 3, 5, 2, 4]\n",
    "GroupB = [3, 2, 4, 3, 3]\n",
    "\n",
    "\n",
    "statistic, p_value = stats.mannwhitneyu(GroupA, GroupB, alternative='two-sided')\n",
    "\n",
    "alpha = 0.05\n",
    "\n",
    "if p_value < alpha:\n",
    "    print(\"Reject the null hypothesis. There is a significant difference in median preferences between the two groups.\")\n",
    "else:\n",
    "    print(\"Fail to reject the null hypothesis. There is no significant difference in median preferences between the two groups.\")\n",
    "\n",
    "print(\"Mann-Whitney U statistic:\", statistic)\n",
    "print(\"p-value:\", p_value)"
   ]
  },
  {
   "cell_type": "markdown",
   "metadata": {},
   "source": [
    "16. Scenario: A company wants to analyze the distribution of customer ages. The data collected is as follows:\n",
    "    \n",
    "    [25, 30, 35, 40, 45, 50, 55, 60, 65, 70]\n",
    "    \n",
    "    Calculate the interquartile range (IQR) of the ages."
   ]
  },
  {
   "cell_type": "code",
   "execution_count": 18,
   "metadata": {},
   "outputs": [
    {
     "name": "stdout",
     "output_type": "stream",
     "text": [
      "Interquartile Range (IQR): 22.5\n"
     ]
    }
   ],
   "source": [
    "ages = [25, 30, 35, 40, 45, 50, 55, 60, 65, 70]\n",
    "\n",
    "q1 = np.percentile(ages, 25)\n",
    "q3 = np.percentile(ages, 75)\n",
    "\n",
    "iqr = q3 - q1\n",
    "\n",
    "print(\"Interquartile Range (IQR):\", iqr)"
   ]
  },
  {
   "cell_type": "markdown",
   "metadata": {},
   "source": [
    "17. Scenario: A study is conducted to compare the performance of three different machine learning algorithms. The accuracy scores for each algorithm are as follows:\n",
    "    \n",
    "    Algorithm A: [0.85, 0.80, 0.82, 0.87, 0.83]\n",
    "    \n",
    "    Algorithm B: [0.78, 0.82, 0.84, 0.80, 0.79]\n",
    "    \n",
    "    Algorithm C: [0.90, 0.88, 0.89, 0.86, 0.87]\n",
    "    \n",
    "    Perform a Kruskal-Wallis test to determine if there is a significant difference in the median accuracy scores between the algorithms.\n"
   ]
  },
  {
   "cell_type": "code",
   "execution_count": 19,
   "metadata": {},
   "outputs": [
    {
     "name": "stdout",
     "output_type": "stream",
     "text": [
      "Reject the null hypothesis. There is a significant difference in median accuracy scores between the algorithms.\n",
      "Kruskal-Wallis statistic: 9.696947935368053\n",
      "p-value: 0.007840333026249539\n"
     ]
    }
   ],
   "source": [
    "algorithmA = [0.85, 0.80, 0.82, 0.87, 0.83]\n",
    "algorithmB = [0.78, 0.82, 0.84, 0.80, 0.79]\n",
    "algorithmC = [0.90, 0.88, 0.89, 0.86, 0.87]\n",
    "\n",
    "# Perform Kruskal-Wallis test\n",
    "statistic, p_value = stats.kruskal(algorithmA, algorithmB, algorithmC)\n",
    "\n",
    "alpha = 0.05\n",
    "\n",
    "if p_value < alpha:\n",
    "    print(\"Reject the null hypothesis. There is a significant difference in median accuracy scores between the algorithms.\")\n",
    "else:\n",
    "    print(\"Fail to reject the null hypothesis. There is no significant difference in median accuracy scores between the algorithms.\")\n",
    "\n",
    "print(\"Kruskal-Wallis statistic:\", statistic)\n",
    "print(\"p-value:\", p_value)"
   ]
  },
  {
   "cell_type": "markdown",
   "metadata": {},
   "source": [
    "18. Scenario: A company wants to analyze the effect of price on sales. The data collected is as follows:\n",
    "    \n",
    "    Price (in dollars): [10, 15, 12, 8, 14]\n",
    "    \n",
    "    Sales: [100, 80, 90, 110, 95]\n",
    "    \n",
    "    Perform a simple linear regression to predict sales based on price."
   ]
  },
  {
   "cell_type": "code",
   "execution_count": 20,
   "metadata": {},
   "outputs": [
    {
     "name": "stdout",
     "output_type": "stream",
     "text": [
      "Regression equation:\n",
      "Sales = -3.51 * Price + 136.37\n",
      "\n",
      "R-squared: 0.8064024390243901\n",
      "p-value: 0.03850178234753776\n",
      "Standard error: 0.9918303504036147\n"
     ]
    }
   ],
   "source": [
    "Price = [10, 15, 12, 8, 14]\n",
    "Sales = [100, 80, 90, 110, 95]\n",
    "\n",
    "slope, intercept, r_value, p_value, std_err = stats.linregress(Price, Sales)\n",
    "\n",
    "print(\"Regression equation:\")\n",
    "print(f\"Sales = {slope:.2f} * Price + {intercept:.2f}\")\n",
    "print()\n",
    "print(\"R-squared:\", r_value**2)\n",
    "print(\"p-value:\", p_value)\n",
    "print(\"Standard error:\", std_err)"
   ]
  },
  {
   "cell_type": "markdown",
   "metadata": {},
   "source": [
    "19. Scenario: A survey is conducted to measure the satisfaction levels of customers with a new product. The data collected is as follows:\n",
    "    \n",
    "    [7, 8, 9, 6, 8, 7, 9, 7, 8, 7]\n",
    "    \n",
    "    Calculate the standard error of the mean satisfaction score.\n"
   ]
  },
  {
   "cell_type": "code",
   "execution_count": 24,
   "metadata": {},
   "outputs": [
    {
     "name": "stdout",
     "output_type": "stream",
     "text": [
      "Standard Error of the Mean: 0.306\n"
     ]
    }
   ],
   "source": [
    "data = [7, 8, 9, 6, 8, 7, 9, 7, 8, 7]\n",
    "\n",
    "standard_error = np.std(data, ddof=1) / np.sqrt(len(data))\n",
    "\n",
    "print(f\"Standard Error of the Mean: {standard_error:.3f}\")"
   ]
  },
  {
   "cell_type": "markdown",
   "metadata": {},
   "source": [
    "20. Scenario: A company wants to analyze the relationship between advertising expenditure and sales. The data collected is as follows:\n",
    "    \n",
    "    Advertising Expenditure (in thousands): [10, 15, 12, 8, 14]\n",
    "    \n",
    "    Sales (in thousands): [25, 30, 28, 20, 26]\n",
    "    \n",
    "    Perform a multiple regression analysis to predict sales based on advertising expenditure.\n",
    "\n"
   ]
  },
  {
   "cell_type": "code",
   "execution_count": 26,
   "metadata": {},
   "outputs": [
    {
     "name": "stdout",
     "output_type": "stream",
     "text": [
      "                            OLS Regression Results                            \n",
      "==============================================================================\n",
      "Dep. Variable:                      y   R-squared:                       0.767\n",
      "Model:                            OLS   Adj. R-squared:                  0.689\n",
      "Method:                 Least Squares   F-statistic:                     9.872\n",
      "Date:                Mon, 10 Jul 2023   Prob (F-statistic):             0.0516\n",
      "Time:                        20:03:06   Log-Likelihood:                -9.5288\n",
      "No. Observations:                   5   AIC:                             23.06\n",
      "Df Residuals:                       3   BIC:                             22.28\n",
      "Df Model:                           1                                         \n",
      "Covariance Type:            nonrobust                                         \n",
      "==============================================================================\n",
      "                 coef    std err          t      P>|t|      [0.025      0.975]\n",
      "------------------------------------------------------------------------------\n",
      "const         12.2012      4.429      2.755      0.070      -1.893      26.296\n",
      "x1             1.1524      0.367      3.142      0.052      -0.015       2.320\n",
      "==============================================================================\n",
      "Omnibus:                          nan   Durbin-Watson:                   1.136\n",
      "Prob(Omnibus):                    nan   Jarque-Bera (JB):                0.546\n",
      "Skew:                          -0.267   Prob(JB):                        0.761\n",
      "Kurtosis:                       1.471   Cond. No.                         57.3\n",
      "==============================================================================\n",
      "\n",
      "Notes:\n",
      "[1] Standard Errors assume that the covariance matrix of the errors is correctly specified.\n"
     ]
    },
    {
     "name": "stderr",
     "output_type": "stream",
     "text": [
      "c:\\Users\\Hp\\miniconda3\\lib\\site-packages\\statsmodels\\stats\\stattools.py:74: ValueWarning: omni_normtest is not valid with less than 8 observations; 5 samples were given.\n",
      "  warn(\"omni_normtest is not valid with less than 8 observations; %i \"\n"
     ]
    }
   ],
   "source": [
    "import statsmodels.api as sm\n",
    "\n",
    "advertising_expenditure = [10, 15, 12, 8, 14]\n",
    "sales = [25, 30, 28, 20, 26]\n",
    "\n",
    "expenditure_with_constant = sm.add_constant(advertising_expenditure)\n",
    "\n",
    "model = sm.OLS(sales, expenditure_with_constant)\n",
    "\n",
    "results = model.fit()\n",
    "\n",
    "print(results.summary())"
   ]
  },
  {
   "cell_type": "code",
   "execution_count": null,
   "metadata": {},
   "outputs": [],
   "source": []
  }
 ],
 "metadata": {
  "kernelspec": {
   "display_name": "base",
   "language": "python",
   "name": "python3"
  },
  "language_info": {
   "codemirror_mode": {
    "name": "ipython",
    "version": 3
   },
   "file_extension": ".py",
   "mimetype": "text/x-python",
   "name": "python",
   "nbconvert_exporter": "python",
   "pygments_lexer": "ipython3",
   "version": "3.9.12"
  },
  "orig_nbformat": 4
 },
 "nbformat": 4,
 "nbformat_minor": 2
}
