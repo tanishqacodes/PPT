{
 "cells": [
  {
   "attachments": {},
   "cell_type": "markdown",
   "metadata": {},
   "source": [
    "### 1. Write a Python program to reverse a string without using any built-in string reversal functions"
   ]
  },
  {
   "cell_type": "code",
   "execution_count": 1,
   "metadata": {},
   "outputs": [
    {
     "name": "stdout",
     "output_type": "stream",
     "text": [
      "sllikswP olleH\n"
     ]
    }
   ],
   "source": [
    "str = \"Hello Pwskills\"\n",
    "rever_str = \"\"\n",
    "for i in range(len(str) - 1, -1, -1):\n",
    "    rever_str += str[i]\n",
    "\n",
    "print(rever_str)\n"
   ]
  },
  {
   "attachments": {},
   "cell_type": "markdown",
   "metadata": {},
   "source": [
    "### 2. Implement a function to check if a given string is a palindrome."
   ]
  },
  {
   "cell_type": "code",
   "execution_count": 2,
   "metadata": {},
   "outputs": [
    {
     "data": {
      "text/plain": [
       "True"
      ]
     },
     "execution_count": 2,
     "metadata": {},
     "output_type": "execute_result"
    }
   ],
   "source": [
    "stre = \"\"\n",
    "\n",
    "\n",
    "def palindrome(str):\n",
    "    stre = str[::-1]\n",
    "    return stre == str\n",
    "\n",
    "\n",
    "str = \"HelloiolleH\"\n",
    "palindrome(str)"
   ]
  },
  {
   "attachments": {},
   "cell_type": "markdown",
   "metadata": {},
   "source": [
    "### 3. Write a program to find the largest element in a given list.\n"
   ]
  },
  {
   "cell_type": "code",
   "execution_count": 3,
   "metadata": {},
   "outputs": [
    {
     "name": "stdout",
     "output_type": "stream",
     "text": [
      "10\n"
     ]
    }
   ],
   "source": [
    "def largest(num):\n",
    "    lar = 0\n",
    "    for i in num:\n",
    "        if i > lar:\n",
    "            lar = i\n",
    "    return lar\n",
    "\n",
    "\n",
    "numbers = [5, 8, 2, 10, 3, 1, 9]\n",
    "ans = largest(numbers)\n",
    "print(ans)"
   ]
  },
  {
   "attachments": {},
   "cell_type": "markdown",
   "metadata": {},
   "source": [
    "### 4. Implement a function to count the occurrence of each element in a list.\n"
   ]
  },
  {
   "cell_type": "code",
   "execution_count": 4,
   "metadata": {},
   "outputs": [
    {
     "name": "stdout",
     "output_type": "stream",
     "text": [
      "Occurrence counts: {1: 3, 2: 3, 3: 2, 4: 2}\n"
     ]
    }
   ],
   "source": [
    "def countnum(inp_list):\n",
    "    count = {}\n",
    "    for i in inp_list:\n",
    "        if i in count:\n",
    "            count[i] += 1\n",
    "        else:\n",
    "            count[i] = 1\n",
    "    return count\n",
    "\n",
    "\n",
    "numbers = [1, 2, 3, 2, 1, 3, 1, 4, 2, 4]\n",
    "occurrence_counts = countnum(numbers)\n",
    "print(\"Occurrence counts:\", occurrence_counts)"
   ]
  },
  {
   "attachments": {},
   "cell_type": "markdown",
   "metadata": {},
   "source": [
    "### 5. Write a Python program to find the second largest number in a list.\n"
   ]
  },
  {
   "cell_type": "code",
   "execution_count": 5,
   "metadata": {},
   "outputs": [
    {
     "name": "stdout",
     "output_type": "stream",
     "text": [
      "9\n"
     ]
    }
   ],
   "source": [
    "def second(nums):\n",
    "    largest = 0\n",
    "    seclarg = 0\n",
    "    for i in nums:\n",
    "        if i > largest:\n",
    "            seclarg = largest\n",
    "            largest = i\n",
    "        elif i > seclarg and i < largest:\n",
    "            seclarg = i\n",
    "    return seclarg\n",
    "\n",
    "\n",
    "number_list = [5, 8, 2, 10, 3, 1, 9]\n",
    "\n",
    "sec_larg_num = second(number_list)\n",
    "print(sec_larg_num)"
   ]
  },
  {
   "attachments": {},
   "cell_type": "markdown",
   "metadata": {},
   "source": [
    "### 6. Implement a function to remove duplicate elements from a list.\n"
   ]
  },
  {
   "cell_type": "code",
   "execution_count": 6,
   "metadata": {},
   "outputs": [
    {
     "name": "stdout",
     "output_type": "stream",
     "text": [
      "[1, 2, 3, 4]\n"
     ]
    }
   ],
   "source": [
    "def remove_dup(nums):\n",
    "    ans = []\n",
    "    for i in nums:\n",
    "        if i not in ans:\n",
    "            ans.append(i)\n",
    "    return ans\n",
    "\n",
    "\n",
    "nums = [1, 2, 3, 2, 1, 3, 1, 4, 2, 4]\n",
    "result = remove_dup(nums)\n",
    "print(result)"
   ]
  },
  {
   "attachments": {},
   "cell_type": "markdown",
   "metadata": {},
   "source": [
    "### 7. Write a program to calculate the factorial of a given number.\n"
   ]
  },
  {
   "cell_type": "code",
   "execution_count": 7,
   "metadata": {},
   "outputs": [
    {
     "name": "stdout",
     "output_type": "stream",
     "text": [
      "120\n"
     ]
    }
   ],
   "source": [
    "def fact(n):\n",
    "    if n == 0:\n",
    "        return 1\n",
    "    else:\n",
    "        return n * fact(n - 1)\n",
    "\n",
    "\n",
    "ans = fact(5)\n",
    "print(ans)"
   ]
  },
  {
   "attachments": {},
   "cell_type": "markdown",
   "metadata": {},
   "source": [
    "### 8. Implement a function to check if a given number is prime."
   ]
  },
  {
   "cell_type": "code",
   "execution_count": 8,
   "metadata": {},
   "outputs": [
    {
     "name": "stdout",
     "output_type": "stream",
     "text": [
      "False\n"
     ]
    }
   ],
   "source": [
    "def pri(n):\n",
    "    if n <= 1:\n",
    "        return False\n",
    "    else:\n",
    "        for i in range(2, (int)(n**0.5) + 1):\n",
    "            if i % 2 == 0:\n",
    "                return False\n",
    "        return True\n",
    "\n",
    "\n",
    "print(pri(45))"
   ]
  },
  {
   "attachments": {},
   "cell_type": "markdown",
   "metadata": {},
   "source": [
    "### 9. Write a Python program to sort a list of integers in ascending order.\n"
   ]
  },
  {
   "cell_type": "code",
   "execution_count": 10,
   "metadata": {},
   "outputs": [
    {
     "name": "stdout",
     "output_type": "stream",
     "text": [
      "Sorted list: [1, 2, 3, 5, 7, 9]\n"
     ]
    }
   ],
   "source": [
    "def sort(numbers):\n",
    "    sorted_list = sorted(numbers)\n",
    "    return sorted_list\n",
    "\n",
    "numbers = [5, 2, 9, 1, 7, 3]\n",
    "sorted_numbers = sort(numbers)\n",
    "print(\"Sorted list:\", sorted_numbers)"
   ]
  },
  {
   "attachments": {},
   "cell_type": "markdown",
   "metadata": {},
   "source": [
    "### 10. Implement a function to find the sum of all numbers in a list."
   ]
  },
  {
   "cell_type": "code",
   "execution_count": 11,
   "metadata": {},
   "outputs": [
    {
     "name": "stdout",
     "output_type": "stream",
     "text": [
      "27\n"
     ]
    }
   ],
   "source": [
    "def sum(num):\n",
    "    sum = 0\n",
    "    for i in num:\n",
    "        sum += i\n",
    "    return sum\n",
    "\n",
    "\n",
    "numbers = [5, 2, 9, 1, 7, 3]\n",
    "print(sum(numbers))"
   ]
  },
  {
   "attachments": {},
   "cell_type": "markdown",
   "metadata": {},
   "source": [
    "### 11. Write a program to find the common elements between two lists.\n"
   ]
  },
  {
   "cell_type": "code",
   "execution_count": 12,
   "metadata": {},
   "outputs": [
    {
     "name": "stdout",
     "output_type": "stream",
     "text": [
      "[1, 3, 4, 5]\n"
     ]
    }
   ],
   "source": [
    "num1 = [1, 2, 3, 4, 5, 6]\n",
    "num2 = [1, 3, 5, 7, 8, 4]\n",
    "com = []\n",
    "for i in num1:\n",
    "    for j in num2:\n",
    "        if i == j:\n",
    "            com.append(i)\n",
    "print(com)"
   ]
  },
  {
   "attachments": {},
   "cell_type": "markdown",
   "metadata": {},
   "source": [
    "### 12. Implement a function to check if a given string is an anagram of another string.\n"
   ]
  },
  {
   "cell_type": "code",
   "execution_count": 13,
   "metadata": {},
   "outputs": [
    {
     "name": "stdout",
     "output_type": "stream",
     "text": [
      "True\n"
     ]
    }
   ],
   "source": [
    "def is_anagram(str1, str2):\n",
    "    if len(str1) != len(str2):\n",
    "        return False\n",
    "    count1 = {}\n",
    "    count2 = {}\n",
    "    for char in str1:\n",
    "        count1[char] = count1.get(char, 0) + 1\n",
    "        # here get return the value of particular key in the dictionarie\n",
    "    for char in str2:\n",
    "        count2[char] = count2.get(char, 0) + 1\n",
    "    return count1 == count2\n",
    "\n",
    "\n",
    "str1 = \"lovebabbar\"\n",
    "str2 = \"babbarovle\"\n",
    "print(is_anagram(str1, str2))"
   ]
  },
  {
   "attachments": {},
   "cell_type": "markdown",
   "metadata": {},
   "source": [
    "### 13. Write a Python program to generate all permutations of a given string"
   ]
  },
  {
   "cell_type": "code",
   "execution_count": 14,
   "metadata": {},
   "outputs": [
    {
     "name": "stdout",
     "output_type": "stream",
     "text": [
      "abcd\n",
      "abdc\n",
      "acbd\n",
      "acdb\n",
      "adbc\n",
      "adcb\n",
      "bacd\n",
      "badc\n",
      "bcad\n",
      "bcda\n",
      "bdac\n",
      "bdca\n",
      "cabd\n",
      "cadb\n",
      "cbad\n",
      "cbda\n",
      "cdab\n",
      "cdba\n",
      "dabc\n",
      "dacb\n",
      "dbac\n",
      "dbca\n",
      "dcab\n",
      "dcba\n"
     ]
    }
   ],
   "source": [
    "def permute_string(string):\n",
    "    if len(string) == 0:\n",
    "        return []\n",
    "    if len(string) == 1:\n",
    "        return [string]\n",
    "    permutations = []\n",
    "    for i in range(len(string)):\n",
    "        char = string[i]\n",
    "        remaining_chars = string[:i] + string[i + 1 :]\n",
    "        temp = permute_string(remaining_chars)\n",
    "        for temp in temp:\n",
    "            permutations.append(char + temp)\n",
    "    return permutations\n",
    "\n",
    "\n",
    "input_string = \"abcd\"\n",
    "permutations = permute_string(input_string)\n",
    "\n",
    "for permutation in permutations:\n",
    "    print(permutation)"
   ]
  },
  {
   "attachments": {},
   "cell_type": "markdown",
   "metadata": {},
   "source": [
    "### 14. Implement a function to calculate the Fibonacci sequence up to a given number of terms.\n"
   ]
  },
  {
   "cell_type": "code",
   "execution_count": 15,
   "metadata": {},
   "outputs": [
    {
     "name": "stdout",
     "output_type": "stream",
     "text": [
      "[0, 1, 1, 2, 3, 5, 8, 13, 21, 34]\n"
     ]
    }
   ],
   "source": [
    "def fibonacci(n):\n",
    "    if n == 0:\n",
    "        return []\n",
    "    elif n == 1:\n",
    "        return [0]\n",
    "    sequence = [0, 1]\n",
    "    while len(sequence) < n:\n",
    "        next_term = sequence[-1] + sequence[-2]\n",
    "        sequence.append(next_term)\n",
    "    return sequence\n",
    "\n",
    "\n",
    "num_terms = 10\n",
    "fib_sequence = fibonacci(num_terms)\n",
    "print(fib_sequence)"
   ]
  },
  {
   "attachments": {},
   "cell_type": "markdown",
   "metadata": {},
   "source": [
    "### 15. Write a program to find the median of a list of numbers.\n"
   ]
  },
  {
   "cell_type": "code",
   "execution_count": 16,
   "metadata": {},
   "outputs": [
    {
     "name": "stdout",
     "output_type": "stream",
     "text": [
      "4\n"
     ]
    }
   ],
   "source": [
    "listd = [1, 2, 3, 4, 5, 5, 6, 6]\n",
    "\n",
    "\n",
    "def func(listd):\n",
    "    count = 0\n",
    "    sum = 0\n",
    "    for i in listd:\n",
    "        sum += i\n",
    "        count = count + 1\n",
    "    ans = sum // count\n",
    "    print(ans)\n",
    "\n",
    "\n",
    "func(listd)"
   ]
  },
  {
   "attachments": {},
   "cell_type": "markdown",
   "metadata": {},
   "source": [
    "### 16. Implement a function to check if a given list is sorted in non-decreasing order.\n"
   ]
  },
  {
   "cell_type": "code",
   "execution_count": 17,
   "metadata": {},
   "outputs": [
    {
     "name": "stdout",
     "output_type": "stream",
     "text": [
      "True\n"
     ]
    }
   ],
   "source": [
    "def is_sorted(lst):\n",
    "    for i in range(1, len(lst)):\n",
    "        if lst[i] < lst[i - 1]:\n",
    "            return False\n",
    "    return True\n",
    "\n",
    "\n",
    "list1 = [1, 2, 3, 4, 5]\n",
    "print(is_sorted(list1))"
   ]
  },
  {
   "attachments": {},
   "cell_type": "markdown",
   "metadata": {},
   "source": [
    "### 17. Write a Python program to find the intersection of two lists.\n"
   ]
  },
  {
   "cell_type": "code",
   "execution_count": 18,
   "metadata": {},
   "outputs": [
    {
     "name": "stdout",
     "output_type": "stream",
     "text": [
      "[4, 5]\n"
     ]
    }
   ],
   "source": [
    "def find_inter(list1, list2):\n",
    "    set1 = set(list1)\n",
    "    set2 = set(list2)\n",
    "    intersection = set1.intersection(set2)\n",
    "    return list(intersection)\n",
    "\n",
    "\n",
    "list1 = [1, 2, 3, 4, 5]\n",
    "list2 = [4, 5, 6, 7, 8]\n",
    "inters = find_inter(list1, list2)\n",
    "print(inters)"
   ]
  },
  {
   "attachments": {},
   "cell_type": "markdown",
   "metadata": {},
   "source": [
    "### 18. Implement a function to find the maximum subarray sum in a given list.\n"
   ]
  },
  {
   "cell_type": "code",
   "execution_count": 19,
   "metadata": {},
   "outputs": [
    {
     "name": "stdout",
     "output_type": "stream",
     "text": [
      "6\n"
     ]
    }
   ],
   "source": [
    "def max_subarray_sum(nums):\n",
    "    if not nums:\n",
    "        return 0\n",
    "\n",
    "    max_sum = float(\"-inf\")  # Initialize with negative infinity\n",
    "    current_sum = 0\n",
    "\n",
    "    for num in nums:\n",
    "        current_sum = max(num, current_sum + num)\n",
    "        max_sum = max(max_sum, current_sum)\n",
    "\n",
    "    return max_sum\n",
    "\n",
    "\n",
    "# Test the function\n",
    "list1 = [-2, 1, -3, 4, -1, 2, 1, -5, 4]\n",
    "result = max_subarray_sum(list1)\n",
    "print(result)  # Output: 6"
   ]
  },
  {
   "attachments": {},
   "cell_type": "markdown",
   "metadata": {},
   "source": [
    "### 19. Write a program to remove all vowels from a given string.\n"
   ]
  },
  {
   "cell_type": "code",
   "execution_count": 20,
   "metadata": {},
   "outputs": [
    {
     "name": "stdout",
     "output_type": "stream",
     "text": [
      "Hll, Wrld!\n"
     ]
    }
   ],
   "source": [
    "def remove_vowels(string):\n",
    "    vowels = \"aeiouAEIOU\"\n",
    "    result = \"\"\n",
    "    for char in string:\n",
    "        if char not in vowels:\n",
    "            result += char\n",
    "    return result\n",
    "\n",
    "\n",
    "input_string = \"Hello, World!\"\n",
    "result_string = remove_vowels(input_string)\n",
    "print(result_string)"
   ]
  },
  {
   "attachments": {},
   "cell_type": "markdown",
   "metadata": {},
   "source": [
    "### 20. Implement a function to reverse the order of words in a given sentence."
   ]
  },
  {
   "cell_type": "code",
   "execution_count": 21,
   "metadata": {},
   "outputs": [
    {
     "name": "stdout",
     "output_type": "stream",
     "text": [
      "you? are how Hello,\n"
     ]
    }
   ],
   "source": [
    "def reverse_sentence(sentence):\n",
    "    words = sentence.split()\n",
    "    reversed_words = words[::-1]\n",
    "    reversed_sentence = \" \".join(reversed_words)\n",
    "    return reversed_sentence\n",
    "\n",
    "\n",
    "input_sentence = \"Hello, how are you?\"\n",
    "reversed_sentence = reverse_sentence(input_sentence)\n",
    "print(reversed_sentence)"
   ]
  },
  {
   "attachments": {},
   "cell_type": "markdown",
   "metadata": {},
   "source": [
    "### 21. Write a Python program to check if two strings are anagrams of each other.\n"
   ]
  },
  {
   "cell_type": "code",
   "execution_count": 1,
   "metadata": {},
   "outputs": [
    {
     "name": "stdout",
     "output_type": "stream",
     "text": [
      "The strings are anagrams.\n"
     ]
    }
   ],
   "source": [
    "def check(s1, s2):\n",
    "    if(sorted(s1)== sorted(s2)):\n",
    "        print(\"The strings are anagrams.\")\n",
    "    else:\n",
    "        print(\"The strings aren't anagrams.\")\n",
    "\n",
    "s1 = input(\"enter string : \")\n",
    "s2 = input(\"enter string : \")\n",
    "check(s1, s2)"
   ]
  },
  {
   "attachments": {},
   "cell_type": "markdown",
   "metadata": {},
   "source": [
    "### 22. Implement a function to find the first non-repeating character in a string.\n"
   ]
  },
  {
   "cell_type": "code",
   "execution_count": 2,
   "metadata": {},
   "outputs": [
    {
     "name": "stdout",
     "output_type": "stream",
     "text": [
      "First non-repeating character is o\n"
     ]
    }
   ],
   "source": [
    "string = input(\"enter string : \")\n",
    "index = -1\n",
    "fnc = \"\"\n",
    "\n",
    "if len(string) == 0 :\n",
    "  print(\"EMTPY STRING\");\n",
    "\n",
    "for i in string:\n",
    "    if string.count(i) == 1:\n",
    "        fnc += i\n",
    "        break\n",
    "    else:\n",
    "        index += 1\n",
    "if index == len(string)-1 :\n",
    "    print(\"All characters are repeating \")\n",
    "else:\n",
    "    print(\"First non-repeating character is\", fnc)"
   ]
  },
  {
   "attachments": {},
   "cell_type": "markdown",
   "metadata": {},
   "source": [
    "### 23. Write a program to find the prime factors of a given number."
   ]
  },
  {
   "cell_type": "code",
   "execution_count": null,
   "metadata": {},
   "outputs": [],
   "source": [
    "def prime_factors(num):\n",
    "    while num % 2 == 0:\n",
    "        print(2,)\n",
    "        num = num / 2\n",
    "\n",
    "    for i in range(3, int(math.sqrt(num)) + 1, 2):\n",
    "        while num % i == 0:\n",
    "            print(i,)\n",
    "            num = num / i\n",
    "    if num > 2:\n",
    "        print(num)\n",
    "\n",
    "num = int(input(\"enter number : \"))\n",
    "prime_factors(num)"
   ]
  },
  {
   "attachments": {},
   "cell_type": "markdown",
   "metadata": {},
   "source": [
    "### 24. Implement a function to check if a given number is a power of two."
   ]
  },
  {
   "cell_type": "code",
   "execution_count": null,
   "metadata": {},
   "outputs": [],
   "source": [
    "import math\n",
    "\n",
    "def Log2(x):\n",
    "    return (math.log10(x) / math.log10(2));\n",
    "\n",
    "def isPowerOfTwo(n):\n",
    "    return (math.ceil(Log2(n)) == math.floor(Log2(n)));\n",
    "\n",
    "n =  int(input(\"enter number : \"))\n",
    "\n",
    "if(isPowerOfTwo(n)):\n",
    "  print(\"true\")\n",
    "else:\n",
    "  print(\"false\")"
   ]
  },
  {
   "attachments": {},
   "cell_type": "markdown",
   "metadata": {},
   "source": [
    "### 25. Write a Python program to merge two sorted lists into a single sorted list"
   ]
  },
  {
   "cell_type": "code",
   "execution_count": 3,
   "metadata": {},
   "outputs": [
    {
     "name": "stdout",
     "output_type": "stream",
     "text": [
      "[1, 2, 3, 4]\n"
     ]
    }
   ],
   "source": [
    "num1 = [1,3]\n",
    "num2 = [2,4]\n",
    "\n",
    "i=0;\n",
    "j=0;\n",
    "n1 = len(num1)\n",
    "n2 = len(num2)\n",
    "\n",
    "res = []\n",
    "\n",
    "while(i<n1 and j<n2):\n",
    "  if(num1[i] < num2[j]):\n",
    "    res.append(num1[i])\n",
    "    i=i+1\n",
    "  elif(num2[j] < num1[i]):\n",
    "    res.append(num2[j])\n",
    "    j=j+1\n",
    "\n",
    "while(i<n1):\n",
    "  res.append(num1[i]);\n",
    "  i=i+1\n",
    "\n",
    "while(j<n1):\n",
    "  res.append(num2[j]);\n",
    "  j=j+1\n",
    "\n",
    "print(res)"
   ]
  },
  {
   "attachments": {},
   "cell_type": "markdown",
   "metadata": {},
   "source": [
    "### 26. Implement a function to find the mode of a list of numbers."
   ]
  },
  {
   "cell_type": "code",
   "execution_count": 4,
   "metadata": {},
   "outputs": [
    {
     "name": "stdout",
     "output_type": "stream",
     "text": [
      "2\n"
     ]
    }
   ],
   "source": [
    "num = [1, 2, 2, 3, 4, 4, 4, 2, 3, 4, 2, 1, 2, 3, 2, 1, 2, 4]\n",
    "# frequency of each element\n",
    "count = {}\n",
    "\n",
    "for i in num:\n",
    "  count[i] = count.get(i,0)+1;\n",
    "# max frequency\n",
    "maxi = max(count.values())\n",
    "\n",
    "for n, c in count.items():\n",
    "  if c == maxi:\n",
    "    print(n)"
   ]
  },
  {
   "attachments": {},
   "cell_type": "markdown",
   "metadata": {},
   "source": [
    "### 27. Write a program to find the greatest common divisor (GCD) of two numbers."
   ]
  },
  {
   "cell_type": "code",
   "execution_count": null,
   "metadata": {},
   "outputs": [],
   "source": [
    "def gcd(a, b):\n",
    "    while b != 0:\n",
    "        a, b = b, a % b\n",
    "    return a\n",
    "\n",
    "n1 = int(input(\"Enter first number : \"))\n",
    "n2 = int(input(\"Enter second number : \"))\n",
    "res = gcd(n1, n2)\n",
    "print(\"GCD of\", n1, \"and\", n2, \"is:\", res)"
   ]
  },
  {
   "attachments": {},
   "cell_type": "markdown",
   "metadata": {},
   "source": [
    "### 28. Implement a function to calculate the square root of a given number."
   ]
  },
  {
   "cell_type": "code",
   "execution_count": 5,
   "metadata": {},
   "outputs": [
    {
     "name": "stdout",
     "output_type": "stream",
     "text": [
      "The square root of 4.000 is 2.000\n"
     ]
    }
   ],
   "source": [
    "def square_root(num):\n",
    "  return num**(0.5)\n",
    "\n",
    "n = int(input(\"Enter number : \"))\n",
    "print('The square root of %0.3f is %0.3f'%(n ,square_root(n)))"
   ]
  },
  {
   "attachments": {},
   "cell_type": "markdown",
   "metadata": {},
   "source": [
    "### 29. Write a Python program to check if a given string is a valid palindrome ignoring non-alphanumeric characters"
   ]
  },
  {
   "cell_type": "code",
   "execution_count": null,
   "metadata": {},
   "outputs": [],
   "source": [
    "str = input(\"Enter string : \")\n",
    "\n",
    "n=len(str)\n",
    "i=0\n",
    "j=n-1;\n",
    "\n",
    "while(i<j):\n",
    "  if(str[i].isalpha() and str[j].isalpha()):\n",
    "    if(str[i] != str[j]):\n",
    "      print(\"false\")\n",
    "      break\n",
    "    i=i+1;\n",
    "    j=j-1;\n",
    "  elif(not(str[i].isalpha())):\n",
    "    i=i+1\n",
    "  elif(not(str[j].isalpha())):\n",
    "    j=j-1\n",
    "  else:\n",
    "    i=i+1;\n",
    "    j=j-1;\n",
    "\n",
    "if(i==j):\n",
    "  print(\"true\")"
   ]
  },
  {
   "attachments": {},
   "cell_type": "markdown",
   "metadata": {},
   "source": [
    "### 30. Implement a function to find the minimum element in a rotated sorted list."
   ]
  },
  {
   "cell_type": "code",
   "execution_count": 6,
   "metadata": {},
   "outputs": [
    {
     "name": "stdout",
     "output_type": "stream",
     "text": [
      "0\n"
     ]
    }
   ],
   "source": [
    "nums = [4, 5, 6, 7, 0, 1, 2]\n",
    "s = 0\n",
    "e = len(nums) - 1\n",
    "\n",
    "if nums[s] < nums[e]:\n",
    "  print(nums[s])\n",
    "else:\n",
    "  while s < e:\n",
    "    mid = s + (e - s) // 2\n",
    "\n",
    "    # Check if mid element is the minimum\n",
    "    if nums[mid] > nums[mid + 1]:\n",
    "      print(nums[mid+1])\n",
    "      break\n",
    "\n",
    "    # Check if mid element is greater than right element\n",
    "    if nums[mid] > nums[e]:\n",
    "      s = mid + 1\n",
    "    else:\n",
    "      e = mid\n",
    "\n",
    "    print(nums[s])"
   ]
  },
  {
   "attachments": {},
   "cell_type": "markdown",
   "metadata": {},
   "source": [
    "### 31. Write a program to find the sum of all even numbers in a list."
   ]
  },
  {
   "cell_type": "code",
   "execution_count": 7,
   "metadata": {},
   "outputs": [
    {
     "name": "stdout",
     "output_type": "stream",
     "text": [
      "30\n"
     ]
    }
   ],
   "source": [
    "num = [2,3,4,5,6,7,8,9,10]\n",
    "sum = 0\n",
    "for x in num:\n",
    "  if(x%2 == 0):\n",
    "    sum+=x\n",
    "print(sum)"
   ]
  },
  {
   "attachments": {},
   "cell_type": "markdown",
   "metadata": {},
   "source": [
    "### 32. Implement a function to calculate the power of a number using recursion."
   ]
  },
  {
   "cell_type": "code",
   "execution_count": 8,
   "metadata": {},
   "outputs": [
    {
     "name": "stdout",
     "output_type": "stream",
     "text": [
      "8\n"
     ]
    }
   ],
   "source": [
    "def power(x,n):\n",
    "  if(n==0):\n",
    "    return 1\n",
    "  if(n==1):\n",
    "    return x\n",
    "  if(n < 0):\n",
    "    return 1 / power(x,-n)\n",
    "  else:\n",
    "    return x * power(x,n-1);\n",
    "\n",
    "\n",
    "print(power(2,3))"
   ]
  },
  {
   "attachments": {},
   "cell_type": "markdown",
   "metadata": {},
   "source": [
    "### 33. Write a Python program to remove duplicates from a list while preserving the order."
   ]
  },
  {
   "cell_type": "code",
   "execution_count": 9,
   "metadata": {},
   "outputs": [
    {
     "name": "stdout",
     "output_type": "stream",
     "text": [
      "[1, 3, 4, 5, 2]\n"
     ]
    }
   ],
   "source": [
    "num = [1,3,4,1,5,3,2]\n",
    "# empty set to mark element seen or not\n",
    "seen = set()\n",
    "result = []\n",
    "for x in num:\n",
    "  if x not in seen:\n",
    "    seen.add(x)\n",
    "    result.append(x)\n",
    "\n",
    "print(result)"
   ]
  },
  {
   "attachments": {},
   "cell_type": "markdown",
   "metadata": {},
   "source": [
    "### 34. Implement a function to find the longest common prefix among a list of strings."
   ]
  },
  {
   "cell_type": "code",
   "execution_count": 22,
   "metadata": {},
   "outputs": [
    {
     "name": "stdout",
     "output_type": "stream",
     "text": [
      "Longest common prefix: fl\n"
     ]
    }
   ],
   "source": [
    "def find_longest_common_prefix(strings):\n",
    "    if not strings:\n",
    "        return \"\"\n",
    "\n",
    "    prefix = strings[0]\n",
    "    for string in strings[1:]:\n",
    "        while string.find(prefix) != 0:\n",
    "            prefix = prefix[:-1]\n",
    "            if not prefix:\n",
    "                return \"\"\n",
    "    \n",
    "    return prefix\n",
    "\n",
    "strings = [\"flower\", \"flow\", \"flight\"]\n",
    "result = find_longest_common_prefix(strings)\n",
    "print(\"Longest common prefix:\", result)\n"
   ]
  },
  {
   "attachments": {},
   "cell_type": "markdown",
   "metadata": {},
   "source": [
    "### 35. Write a program to check if a given number is a perfect square."
   ]
  },
  {
   "cell_type": "code",
   "execution_count": 10,
   "metadata": {},
   "outputs": [
    {
     "name": "stdout",
     "output_type": "stream",
     "text": [
      "false\n"
     ]
    }
   ],
   "source": [
    "n = int(input(\"enter number : \"))\n",
    "\n",
    "sqrt =int (n ** 0.5)\n",
    "if(sqrt*sqrt == n):\n",
    "  print(\"true\")\n",
    "else:\n",
    "  print(\"false\")\n"
   ]
  },
  {
   "attachments": {},
   "cell_type": "markdown",
   "metadata": {},
   "source": [
    "### 36. Implement a function to calculate the product of all elements in a list."
   ]
  },
  {
   "cell_type": "code",
   "execution_count": 11,
   "metadata": {},
   "outputs": [
    {
     "name": "stdout",
     "output_type": "stream",
     "text": [
      "254016000\n"
     ]
    }
   ],
   "source": [
    "num = [1,2,3,5,6,6,7,7,2,4,4,5,5,6]\n",
    "\n",
    "prod = 1\n",
    "\n",
    "for i in num:\n",
    "  prod = prod*i\n",
    "\n",
    "print(prod)"
   ]
  },
  {
   "attachments": {},
   "cell_type": "markdown",
   "metadata": {},
   "source": [
    "### 37. Write a Python program to reverse the order of words in a sentence while preserving the word order."
   ]
  },
  {
   "cell_type": "code",
   "execution_count": 12,
   "metadata": {},
   "outputs": [
    {
     "name": "stdout",
     "output_type": "stream",
     "text": [
      " olleH dlrow\n"
     ]
    }
   ],
   "source": [
    "sentence = input(\"enter sentence : \")\n",
    "words = sentence.split()\n",
    "reverseSentence = \"\"\n",
    "for x in range(0,len(words)):\n",
    "  reverseWords = words[x][::-1]\n",
    "  reverseSentence = reverseSentence+' '+reverseWords\n",
    "\n",
    "print(reverseSentence)"
   ]
  },
  {
   "attachments": {},
   "cell_type": "markdown",
   "metadata": {},
   "source": [
    "### 38. Implement a function to find the missing number in a given list of consecutive numbers."
   ]
  },
  {
   "cell_type": "code",
   "execution_count": 13,
   "metadata": {},
   "outputs": [
    {
     "name": "stdout",
     "output_type": "stream",
     "text": [
      "Missing number: 4\n"
     ]
    }
   ],
   "source": [
    "def sum(nums):\n",
    "  sum = 0\n",
    "  for i in nums:\n",
    "    sum = sum + i\n",
    "  return sum\n",
    "\n",
    "def find_missing_number(nums):\n",
    "    n = len(nums) + 1\n",
    "    total_sum = (n * (n + 1)) // 2\n",
    "    current_sum = sum(nums)\n",
    "    missing_number = total_sum - current_sum\n",
    "    return missing_number\n",
    "\n",
    "numbers = [1, 2, 3, 5, 6, 7, 8]\n",
    "missing_number = find_missing_number(numbers)\n",
    "print(\"Missing number:\", missing_number)"
   ]
  },
  {
   "attachments": {},
   "cell_type": "markdown",
   "metadata": {},
   "source": [
    "### 39. Write a program to find the sum of digits of a given number."
   ]
  },
  {
   "cell_type": "code",
   "execution_count": 14,
   "metadata": {},
   "outputs": [
    {
     "name": "stdout",
     "output_type": "stream",
     "text": [
      "Sum of digit :  6\n"
     ]
    }
   ],
   "source": [
    "n = int(input(\"enter number : \"))\n",
    "\n",
    "sum = 0\n",
    "while(n!=0):\n",
    "  sum = sum + (n%10)\n",
    "  n = n//10\n",
    "\n",
    "print(\"Sum of digit : \",sum)"
   ]
  },
  {
   "attachments": {},
   "cell_type": "markdown",
   "metadata": {},
   "source": [
    "### 40. Implement a function to check if a given string is a valid palindrome considering case sensitivity."
   ]
  },
  {
   "cell_type": "code",
   "execution_count": 15,
   "metadata": {},
   "outputs": [
    {
     "name": "stdout",
     "output_type": "stream",
     "text": [
      "\"Able was I saw Elba\" is a valid palindrome: True\n"
     ]
    }
   ],
   "source": [
    "def is_valid_palindrome(string):\n",
    "    alphanumeric_string = ''.join(c for c in string if c.isalnum())\n",
    "    lowercase_string = alphanumeric_string.lower()\n",
    "    return lowercase_string == lowercase_string[::-1]\n",
    "\n",
    "\n",
    "string = \"Able was I saw Elba\"\n",
    "result = is_valid_palindrome(string)\n",
    "print(f'\"{string}\" is a valid palindrome: {result}')"
   ]
  },
  {
   "attachments": {},
   "cell_type": "markdown",
   "metadata": {},
   "source": [
    "### 41. Write a Python program to find the smallest missing positive integer in a list."
   ]
  },
  {
   "cell_type": "code",
   "execution_count": 16,
   "metadata": {},
   "outputs": [
    {
     "name": "stdout",
     "output_type": "stream",
     "text": [
      "Smallest missing positive integer: 6\n"
     ]
    }
   ],
   "source": [
    "def find_smallest_missing_positive(nums):\n",
    "    positive_nums = [num for num in nums if num > 0]\n",
    "\n",
    "    for num in positive_nums:\n",
    "        index = abs(num) - 1\n",
    "        if index < len(positive_nums):\n",
    "            positive_nums[index] = -abs(positive_nums[index])\n",
    "\n",
    "    for i in range(len(positive_nums)):\n",
    "        if positive_nums[i] > 0:\n",
    "            return i + 1\n",
    "\n",
    "    return len(positive_nums) + 1\n",
    "\n",
    "numbers = [3, 1, -1, 5, 2, 4]\n",
    "result = find_smallest_missing_positive(numbers)\n",
    "print(\"Smallest missing positive integer:\", result)"
   ]
  },
  {
   "attachments": {},
   "cell_type": "markdown",
   "metadata": {},
   "source": [
    "### 42. Implement a function to find the longest palindrome substring in a given string."
   ]
  },
  {
   "cell_type": "code",
   "execution_count": 17,
   "metadata": {},
   "outputs": [
    {
     "name": "stdout",
     "output_type": "stream",
     "text": [
      "Longest palindrome substring: bab\n"
     ]
    }
   ],
   "source": [
    "def find_longest_palindrome(string):\n",
    "    if not string:\n",
    "        return \"\"\n",
    "\n",
    "    n = len(string)\n",
    "    longest_palindrome = \"\"\n",
    "\n",
    "    def expand_around_center(left, right):\n",
    "        while left >= 0 and right < n and string[left] == string[right]:\n",
    "            left -= 1\n",
    "            right += 1\n",
    "        return string[left + 1 : right]\n",
    "\n",
    "    for i in range(n):\n",
    "        odd_palindrome = expand_around_center(i, i)\n",
    "        if len(odd_palindrome) > len(longest_palindrome):\n",
    "            longest_palindrome = odd_palindrome\n",
    "\n",
    "        even_palindrome = expand_around_center(i, i + 1)\n",
    "        if len(even_palindrome) > len(longest_palindrome):\n",
    "            longest_palindrome = even_palindrome\n",
    "\n",
    "    return longest_palindrome\n",
    "\n",
    "\n",
    "string = \"babad\"\n",
    "result = find_longest_palindrome(string)\n",
    "print(\"Longest palindrome substring:\", result)"
   ]
  },
  {
   "attachments": {},
   "cell_type": "markdown",
   "metadata": {},
   "source": [
    "### 43. Write a program to find the number of occurrences of a given element in a list."
   ]
  },
  {
   "cell_type": "code",
   "execution_count": 18,
   "metadata": {},
   "outputs": [
    {
     "name": "stdout",
     "output_type": "stream",
     "text": [
      "7\n"
     ]
    }
   ],
   "source": [
    "num = [1, 2, 2, 3, 4, 4, 4, 2, 3, 4, 2, 1, 2, 3, 2, 1, 2, 4]\n",
    "n = 2\n",
    "count = 0\n",
    "for i in num:\n",
    "  if(i == n):\n",
    "    count = count+1\n",
    "print(count)"
   ]
  },
  {
   "attachments": {},
   "cell_type": "markdown",
   "metadata": {},
   "source": [
    "### 44. Implement a function to check if a given number is a perfect number"
   ]
  },
  {
   "cell_type": "code",
   "execution_count": 19,
   "metadata": {},
   "outputs": [
    {
     "name": "stdout",
     "output_type": "stream",
     "text": [
      "6 is a perfect number: True\n"
     ]
    }
   ],
   "source": [
    "def isPerfect(num):\n",
    "    if num < 2:\n",
    "        return False\n",
    "\n",
    "    divisor_sum = 1\n",
    "    for i in range(2, int(num**0.5) + 1):\n",
    "        if num % i == 0:\n",
    "            divisor_sum += i\n",
    "            if i != num // i:\n",
    "                divisor_sum += num // i\n",
    "\n",
    "    return divisor_sum == num\n",
    "\n",
    "num = int(input(\"enter number : \"))\n",
    "result = isPerfect(num)\n",
    "print(num, \"is a perfect number:\", result)"
   ]
  },
  {
   "attachments": {},
   "cell_type": "markdown",
   "metadata": {},
   "source": [
    "### 45. Write a Python program to remove all duplicates from a string."
   ]
  },
  {
   "cell_type": "code",
   "execution_count": 21,
   "metadata": {},
   "outputs": [
    {
     "name": "stdout",
     "output_type": "stream",
     "text": [
      "String with duplicates removed: Helo, Wrd!\n"
     ]
    }
   ],
   "source": [
    "def remove_duplicates(string):\n",
    "    return ''.join(dict.fromkeys(string))\n",
    "\n",
    "string = \"Hello, World!\"\n",
    "result = remove_duplicates(string)\n",
    "print(\"String with duplicates removed:\", result)"
   ]
  },
  {
   "attachments": {},
   "cell_type": "markdown",
   "metadata": {},
   "source": [
    "### 46. Implement a function to find the first missing positive"
   ]
  },
  {
   "cell_type": "code",
   "execution_count": 20,
   "metadata": {},
   "outputs": [
    {
     "name": "stdout",
     "output_type": "stream",
     "text": [
      "First missing positive integer: 2\n"
     ]
    }
   ],
   "source": [
    "def find_first_missing_positive(nums):\n",
    "    n = len(nums)\n",
    "    i = 0\n",
    "    while i < n:\n",
    "        if 1 <= nums[i] <= n and nums[i] != nums[nums[i] - 1]:\n",
    "            nums[nums[i] - 1], nums[i] = nums[i], nums[nums[i] - 1]\n",
    "        else:\n",
    "            i += 1\n",
    "\n",
    "    for i in range(n):\n",
    "        if nums[i] != i + 1:\n",
    "            return i + 1\n",
    "\n",
    "    return n + 1\n",
    "\n",
    "numbers = [3, 4, -1, 1]\n",
    "result = find_first_missing_positive(numbers)\n",
    "print(\"First missing positive integer:\", result)\n"
   ]
  },
  {
   "cell_type": "code",
   "execution_count": null,
   "metadata": {},
   "outputs": [],
   "source": []
  }
 ],
 "metadata": {
  "kernelspec": {
   "display_name": "base",
   "language": "python",
   "name": "python3"
  },
  "language_info": {
   "codemirror_mode": {
    "name": "ipython",
    "version": 3
   },
   "file_extension": ".py",
   "mimetype": "text/x-python",
   "name": "python",
   "nbconvert_exporter": "python",
   "pygments_lexer": "ipython3",
   "version": "3.9.12"
  },
  "orig_nbformat": 4
 },
 "nbformat": 4,
 "nbformat_minor": 2
}
